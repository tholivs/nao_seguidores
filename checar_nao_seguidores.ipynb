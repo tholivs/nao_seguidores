{
 "cells": [
  {
   "cell_type": "markdown",
   "id": "334fe924",
   "metadata": {},
   "source": [
    "# USE POR SUA CONTA E RISCO"
   ]
  },
  {
   "cell_type": "markdown",
   "id": "f6524e8b",
   "metadata": {},
   "source": [
    "O presente código é de conteúdo educativo para entender as funções de python e selenium para pequenas automações, qualquer uso que venha a ferir quaisquers leis, diretrizes, convenções, normas etc... é de total conta e risco do usuário.\n",
    "Não tem créditos porque é um catadão de vários outros códigos na internet."
   ]
  },
  {
   "cell_type": "code",
   "execution_count": null,
   "id": "85673a0a",
   "metadata": {},
   "outputs": [],
   "source": [
    "from selenium import webdriver\n",
    "from selenium.webdriver.common.by import By\n",
    "from selenium.webdriver.chrome.service import Service\n",
    "from webdriver_manager.chrome import ChromeDriverManager\n",
    "from time import sleep"
   ]
  },
  {
   "cell_type": "code",
   "execution_count": null,
   "id": "7ec1146b",
   "metadata": {},
   "outputs": [],
   "source": [
    "# ABRE O BROWSER PRA LOGIN NO INSTAGRAM AI TU FAZ LOGIN NO CHROME Q ABRIR\n",
    "driver = webdriver.Chrome(service=Service(ChromeDriverManager().install()))\n",
    "driver.get(\"https://instagram.com\")\n",
    "sleep(2)\n",
    "\n",
    "# COLOQUE SEU USER AQUI, O LOGIN É FEITO MANUALMENTE, NÃO CONSEGUI AUTOMATIZAR COM DOIS FATORES\n",
    "conta = ''\n",
    "link_conta = \"https://instagram.com/\" + str(conta) + \"/\"\n",
    "\n",
    "# AQUI VAI ENTRAR NO INSTAGRAM COM O USUARIO QUE VOCÊ SETOU ACIMA, TEM Q SER O SEU (OBVIAMENTE)\n",
    "print(\"Acessa Conta\")\n",
    "driver.get(link_conta)\n",
    "sleep(3)"
   ]
  },
  {
   "cell_type": "code",
   "execution_count": null,
   "id": "8228fbaf",
   "metadata": {},
   "outputs": [],
   "source": [
    "# NOME DOS BOTÕES ONDE ELE VAI BUSCAR SEGUIDORES E SEGUIDOS, CASO ESTEJA EM OUTRO IDIOMA, MUDE PRO IDIOMA QUE VOCÊ UTILIZA\n",
    "local1 = \"followers\"\n",
    "local2 = \"following\""
   ]
  },
  {
   "cell_type": "code",
   "execution_count": null,
   "id": "a3a811c9",
   "metadata": {},
   "outputs": [],
   "source": [
    "# AQUI ELE VAI ACESSAR SEUS SEGUIDORES COM BASE NO NOME DA CAIXINHA Q VC ESCREVEU NO BLOCO DE PROGRAMAÇÃO ANTERIOR\n",
    "following_element = driver.find_element(By.PARTIAL_LINK_TEXT, local1)\n",
    "following_element.click()\n",
    "sleep(2)\n",
    "scroll_box = driver.find_element(By.CLASS_NAME, \"_aano\")\n",
    "prev_height, height = 0, 1\n",
    "# ELE VAI SCROLLAR SEUS SEGUIDORES/SEGUIDOS ATÉ CHEGAR NO FIM PARA PODER TER O CÓDIGO FONTE DE TODOS, O INSTAGRAM NÃO MOSTRA \n",
    "# TODOS DE UMA SÓ VEZ\n",
    "while prev_height != height:\n",
    "    prev_height = height\n",
    "    sleep(3)\n",
    "    height = driver.execute_script(\"\"\"\n",
    "        arguments[0].scrollTo(0, arguments[0].scrollHeight); \n",
    "        return arguments[0].scrollHeight;\n",
    "        \"\"\", scroll_box)\n",
    "# ESSE PROCESSO PODE DEMORAR MT CASO TENHA VÁRIOS SEGUIDORES"
   ]
  },
  {
   "cell_type": "code",
   "execution_count": null,
   "id": "eb6c809d",
   "metadata": {},
   "outputs": [],
   "source": [
    "# AGORA A MAGIA ACONTECE COM ELE BUSCANDO OS NOMES DOS SEGUIDORES/SEGUIDOS\n",
    "links = scroll_box.find_elements(By.TAG_NAME, 'a')\n",
    "nomes = [name.text for name in links if name.text != '']\n",
    "print(\"Seguidores encontrados: \" + str(len(nomes)))\n",
    "driver.get(link_conta)\n",
    "sleep(5)"
   ]
  },
  {
   "cell_type": "code",
   "execution_count": null,
   "id": "fa324cb6",
   "metadata": {},
   "outputs": [],
   "source": [
    "# AQUI É A MSM FITA DOS SEGUIDORES, SÓ Q AGR COM OS SEGUIDOS\n",
    "following_element = driver.find_element(By.PARTIAL_LINK_TEXT, local2)\n",
    "following_element.click()\n",
    "sleep(2)\n",
    "scroll_box = driver.find_element(By.CLASS_NAME, \"_aano\")\n",
    "prev_height, height = 0, 1\n",
    "# MSM FITA DO PASSADO\n",
    "while prev_height != height:\n",
    "    prev_height = height\n",
    "    sleep(3)\n",
    "    height = driver.execute_script(\"\"\"\n",
    "        arguments[0].scrollTo(0, arguments[0].scrollHeight); \n",
    "        return arguments[0].scrollHeight;\n",
    "        \"\"\", scroll_box)\n",
    "# ESSE PROCESSO PODE DEMORAR MT CASO VC SIGA MT GENTE"
   ]
  },
  {
   "cell_type": "code",
   "execution_count": null,
   "id": "98d37ac4",
   "metadata": {},
   "outputs": [],
   "source": [
    "# AGORA A MAGIA ACONTECE COM ELE BUSCANDO OS NOMES DOS SEGUIDOS\n",
    "links = scroll_box.find_elements(By.TAG_NAME, 'a')\n",
    "nomes_seguidos = [name.text for name in links if name.text != '']\n",
    "print(\"Você segue: \" + str(len(nomes_seguidos)) + \" contas.\")\n",
    "driver.get(link_conta)\n",
    "sleep(5)"
   ]
  },
  {
   "cell_type": "code",
   "execution_count": null,
   "id": "388727f0",
   "metadata": {},
   "outputs": [],
   "source": [
    "lista_seguindo = nomes_seguidos\n",
    "lista_seguidores = nomes"
   ]
  },
  {
   "cell_type": "code",
   "execution_count": null,
   "id": "0cf611ba",
   "metadata": {},
   "outputs": [],
   "source": [
    "vaciloes = [user for user in lista_seguindo if user not in lista_seguidores]"
   ]
  },
  {
   "cell_type": "code",
   "execution_count": null,
   "id": "9de07e39",
   "metadata": {},
   "outputs": [],
   "source": [
    "print(\"Essa galera aqui não te segue:\" + str(vaciloes))"
   ]
  }
 ],
 "metadata": {
  "kernelspec": {
   "display_name": "Python 3 (ipykernel)",
   "language": "python",
   "name": "python3"
  },
  "language_info": {
   "codemirror_mode": {
    "name": "ipython",
    "version": 3
   },
   "file_extension": ".py",
   "mimetype": "text/x-python",
   "name": "python",
   "nbconvert_exporter": "python",
   "pygments_lexer": "ipython3",
   "version": "3.11.5"
  }
 },
 "nbformat": 4,
 "nbformat_minor": 5
}
